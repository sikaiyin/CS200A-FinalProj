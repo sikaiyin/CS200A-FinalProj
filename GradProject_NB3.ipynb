{
 "cells": [
  {
   "cell_type": "markdown",
   "metadata": {},
   "source": [
    "\n",
    "<h1> DS200A Computer Vision Assignment</h1>"
   ]
  },
  {
   "cell_type": "markdown",
   "metadata": {},
   "source": [
    "<h2>  Part Three: Classifier training and performance assessment. </h2>\t"
   ]
  },
  {
   "cell_type": "code",
   "execution_count": 2,
   "metadata": {},
   "outputs": [],
   "source": [
    "import numpy as np\n",
    "from sklearn.model_selection import train_test_split\n",
    "from sklearn.metrics import accuracy_score\n",
    "\n",
    "def my_train_test_split(df, label):\n",
    "    X_train, X_test, y_train, y_test = train_test_split(df, label, test_size=0.2, random_state=42)\n",
    "    return X_train, X_test, y_train, y_test\n",
    "#Split the data into a training set, and test set\n",
    "\n",
    "def accuracy(pred, actual):\n",
    "    return accuracy_score(actual, pred)\n",
    "# Calculate the accuracy percentage of the predicted values"
   ]
  },
  {
   "cell_type": "markdown",
   "metadata": {},
   "source": [
    "<h3>  Train models using all of the following methods below. Be sure to drop the actual image column, and the encoding</h3>\tTake note of the differences in accuracy, and methods.\n"
   ]
  },
  {
   "cell_type": "markdown",
   "metadata": {},
   "source": [
    "### Import Packages"
   ]
  },
  {
   "cell_type": "code",
   "execution_count": 3,
   "metadata": {},
   "outputs": [],
   "source": [
    "from sklearn.model_selection import cross_val_score\n",
    "from sklearn.model_selection import KFold, StratifiedKFold\n",
    "from sklearn.metrics import confusion_matrix, accuracy_score, classification_report\n",
    "from sklearn import svm\n",
    "from sklearn.linear_model import LogisticRegression\n",
    "from sklearn.neighbors import KNeighborsClassifier\n",
    "from sklearn import tree\n",
    "from sklearn.ensemble import RandomForestClassifier\n",
    "from sklearn.svm import LinearSVC\n",
    "from sklearn.model_selection import cross_val_score\n",
    "from sklearn.model_selection import KFold, StratifiedKFold\n",
    "from sklearn.metrics import confusion_matrix, accuracy_score, classification_report"
   ]
  },
  {
   "cell_type": "markdown",
   "metadata": {},
   "source": [
    "### Import Data"
   ]
  },
  {
   "cell_type": "code",
   "execution_count": 4,
   "metadata": {},
   "outputs": [],
   "source": [
    "%store -r training_set\n",
    "%store -r validation_set\n",
    "%store -r starting_data\n",
    "\n",
    "train_X, test_X, train_y, test_y = my_train_test_split(training_set, starting_data['Encoding'].astype('int'))"
   ]
  },
  {
   "cell_type": "code",
   "execution_count": 8,
   "metadata": {},
   "outputs": [
    {
     "data": {
      "text/html": [
       "<div>\n",
       "<style scoped>\n",
       "    .dataframe tbody tr th:only-of-type {\n",
       "        vertical-align: middle;\n",
       "    }\n",
       "\n",
       "    .dataframe tbody tr th {\n",
       "        vertical-align: top;\n",
       "    }\n",
       "\n",
       "    .dataframe thead th {\n",
       "        text-align: right;\n",
       "    }\n",
       "</style>\n",
       "<table border=\"1\" class=\"dataframe\">\n",
       "  <thead>\n",
       "    <tr style=\"text-align: right;\">\n",
       "      <th></th>\n",
       "      <th>0</th>\n",
       "      <th>1</th>\n",
       "      <th>2</th>\n",
       "      <th>3</th>\n",
       "      <th>4</th>\n",
       "      <th>5</th>\n",
       "      <th>6</th>\n",
       "      <th>7</th>\n",
       "      <th>8</th>\n",
       "      <th>9</th>\n",
       "      <th>...</th>\n",
       "      <th>red_mean</th>\n",
       "      <th>aspect_ratio</th>\n",
       "      <th>green_mean</th>\n",
       "      <th>blue_mean</th>\n",
       "      <th>red_std</th>\n",
       "      <th>green_std</th>\n",
       "      <th>blue_std</th>\n",
       "      <th>hue_std</th>\n",
       "      <th>saturation_std</th>\n",
       "      <th>value_std</th>\n",
       "    </tr>\n",
       "  </thead>\n",
       "  <tbody>\n",
       "    <tr>\n",
       "      <th>1223</th>\n",
       "      <td>-13.754012</td>\n",
       "      <td>4.217939</td>\n",
       "      <td>-11.035530</td>\n",
       "      <td>-6.467636</td>\n",
       "      <td>-8.613246</td>\n",
       "      <td>-14.607150</td>\n",
       "      <td>4.992421</td>\n",
       "      <td>-0.029034</td>\n",
       "      <td>1.954947</td>\n",
       "      <td>0.405566</td>\n",
       "      <td>...</td>\n",
       "      <td>107.477458</td>\n",
       "      <td>0.666667</td>\n",
       "      <td>111.250936</td>\n",
       "      <td>62.517293</td>\n",
       "      <td>37.342103</td>\n",
       "      <td>35.802167</td>\n",
       "      <td>26.966284</td>\n",
       "      <td>0.186833</td>\n",
       "      <td>0.486076</td>\n",
       "      <td>0.444845</td>\n",
       "    </tr>\n",
       "    <tr>\n",
       "      <th>195</th>\n",
       "      <td>-27.263412</td>\n",
       "      <td>-11.504443</td>\n",
       "      <td>-3.376445</td>\n",
       "      <td>0.085838</td>\n",
       "      <td>-0.506347</td>\n",
       "      <td>-0.234997</td>\n",
       "      <td>-4.038085</td>\n",
       "      <td>5.123725</td>\n",
       "      <td>1.336155</td>\n",
       "      <td>8.306947</td>\n",
       "      <td>...</td>\n",
       "      <td>114.839850</td>\n",
       "      <td>0.873737</td>\n",
       "      <td>84.806397</td>\n",
       "      <td>60.469493</td>\n",
       "      <td>64.425845</td>\n",
       "      <td>54.069603</td>\n",
       "      <td>46.124635</td>\n",
       "      <td>0.138004</td>\n",
       "      <td>0.529799</td>\n",
       "      <td>0.452142</td>\n",
       "    </tr>\n",
       "    <tr>\n",
       "      <th>1397</th>\n",
       "      <td>-27.453283</td>\n",
       "      <td>19.926761</td>\n",
       "      <td>-13.262352</td>\n",
       "      <td>-32.726100</td>\n",
       "      <td>-13.970964</td>\n",
       "      <td>16.997651</td>\n",
       "      <td>-4.466292</td>\n",
       "      <td>10.465314</td>\n",
       "      <td>-17.136508</td>\n",
       "      <td>-2.581586</td>\n",
       "      <td>...</td>\n",
       "      <td>93.784163</td>\n",
       "      <td>0.750000</td>\n",
       "      <td>98.278756</td>\n",
       "      <td>125.291081</td>\n",
       "      <td>70.009246</td>\n",
       "      <td>69.897048</td>\n",
       "      <td>79.171225</td>\n",
       "      <td>0.587354</td>\n",
       "      <td>0.337867</td>\n",
       "      <td>0.504632</td>\n",
       "    </tr>\n",
       "    <tr>\n",
       "      <th>1174</th>\n",
       "      <td>-46.259078</td>\n",
       "      <td>29.384575</td>\n",
       "      <td>-48.431412</td>\n",
       "      <td>0.492400</td>\n",
       "      <td>20.477034</td>\n",
       "      <td>16.758928</td>\n",
       "      <td>12.317431</td>\n",
       "      <td>9.255086</td>\n",
       "      <td>10.390058</td>\n",
       "      <td>16.799209</td>\n",
       "      <td>...</td>\n",
       "      <td>91.166047</td>\n",
       "      <td>0.735586</td>\n",
       "      <td>91.166047</td>\n",
       "      <td>91.166047</td>\n",
       "      <td>83.888686</td>\n",
       "      <td>83.888686</td>\n",
       "      <td>83.888686</td>\n",
       "      <td>0.000000</td>\n",
       "      <td>0.000000</td>\n",
       "      <td>0.357514</td>\n",
       "    </tr>\n",
       "    <tr>\n",
       "      <th>438</th>\n",
       "      <td>32.216891</td>\n",
       "      <td>-2.534014</td>\n",
       "      <td>-17.979790</td>\n",
       "      <td>0.362042</td>\n",
       "      <td>-1.071691</td>\n",
       "      <td>2.053438</td>\n",
       "      <td>2.012079</td>\n",
       "      <td>1.328458</td>\n",
       "      <td>0.479869</td>\n",
       "      <td>-0.508322</td>\n",
       "      <td>...</td>\n",
       "      <td>124.281586</td>\n",
       "      <td>0.750000</td>\n",
       "      <td>158.022905</td>\n",
       "      <td>165.050849</td>\n",
       "      <td>17.380405</td>\n",
       "      <td>20.026717</td>\n",
       "      <td>28.665800</td>\n",
       "      <td>0.520608</td>\n",
       "      <td>0.251187</td>\n",
       "      <td>0.653182</td>\n",
       "    </tr>\n",
       "  </tbody>\n",
       "</table>\n",
       "<p>5 rows × 110 columns</p>\n",
       "</div>"
      ],
      "text/plain": [
       "              0          1          2          3          4          5  \\\n",
       "1223 -13.754012   4.217939 -11.035530  -6.467636  -8.613246 -14.607150   \n",
       "195  -27.263412 -11.504443  -3.376445   0.085838  -0.506347  -0.234997   \n",
       "1397 -27.453283  19.926761 -13.262352 -32.726100 -13.970964  16.997651   \n",
       "1174 -46.259078  29.384575 -48.431412   0.492400  20.477034  16.758928   \n",
       "438   32.216891  -2.534014 -17.979790   0.362042  -1.071691   2.053438   \n",
       "\n",
       "              6          7          8          9  ...    red_mean  \\\n",
       "1223   4.992421  -0.029034   1.954947   0.405566  ...  107.477458   \n",
       "195   -4.038085   5.123725   1.336155   8.306947  ...  114.839850   \n",
       "1397  -4.466292  10.465314 -17.136508  -2.581586  ...   93.784163   \n",
       "1174  12.317431   9.255086  10.390058  16.799209  ...   91.166047   \n",
       "438    2.012079   1.328458   0.479869  -0.508322  ...  124.281586   \n",
       "\n",
       "      aspect_ratio  green_mean   blue_mean    red_std  green_std   blue_std  \\\n",
       "1223      0.666667  111.250936   62.517293  37.342103  35.802167  26.966284   \n",
       "195       0.873737   84.806397   60.469493  64.425845  54.069603  46.124635   \n",
       "1397      0.750000   98.278756  125.291081  70.009246  69.897048  79.171225   \n",
       "1174      0.735586   91.166047   91.166047  83.888686  83.888686  83.888686   \n",
       "438       0.750000  158.022905  165.050849  17.380405  20.026717  28.665800   \n",
       "\n",
       "       hue_std  saturation_std  value_std  \n",
       "1223  0.186833        0.486076   0.444845  \n",
       "195   0.138004        0.529799   0.452142  \n",
       "1397  0.587354        0.337867   0.504632  \n",
       "1174  0.000000        0.000000   0.357514  \n",
       "438   0.520608        0.251187   0.653182  \n",
       "\n",
       "[5 rows x 110 columns]"
      ]
     },
     "execution_count": 8,
     "metadata": {},
     "output_type": "execute_result"
    }
   ],
   "source": [
    "train_X.head()"
   ]
  },
  {
   "cell_type": "markdown",
   "metadata": {},
   "source": [
    "### Cross Validation"
   ]
  },
  {
   "cell_type": "code",
   "execution_count": 4,
   "metadata": {},
   "outputs": [],
   "source": [
    "kf = KFold(n_splits=5,shuffle=True,random_state=42)"
   ]
  },
  {
   "cell_type": "markdown",
   "metadata": {},
   "source": [
    "### Logistic Regression"
   ]
  },
  {
   "cell_type": "code",
   "execution_count": 22,
   "metadata": {},
   "outputs": [
    {
     "data": {
      "text/plain": [
       "0                -36.685074\n",
       "1                -20.685826\n",
       "2                 19.975724\n",
       "3                  8.332358\n",
       "4                -17.533878\n",
       "                    ...    \n",
       "green_std         58.961446\n",
       "blue_std          49.636583\n",
       "hue_std            0.334339\n",
       "saturation_std     0.190325\n",
       "value_std          0.312587\n",
       "Name: 36, Length: 110, dtype: float64"
      ]
     },
     "execution_count": 22,
     "metadata": {},
     "output_type": "execute_result"
    }
   ],
   "source": [
    "training_set.iloc[36]"
   ]
  },
  {
   "cell_type": "code",
   "execution_count": 8,
   "metadata": {},
   "outputs": [
    {
     "name": "stderr",
     "output_type": "stream",
     "text": [
      "/Applications/Anaconda/anaconda/lib/python3.7/site-packages/sklearn/linear_model/logistic.py:433: FutureWarning: Default solver will be changed to 'lbfgs' in 0.22. Specify a solver to silence this warning.\n",
      "  FutureWarning)\n",
      "/Applications/Anaconda/anaconda/lib/python3.7/site-packages/sklearn/linear_model/logistic.py:460: FutureWarning: Default multi_class will be changed to 'auto' in 0.22. Specify the multi_class option to silence this warning.\n",
      "  \"this warning.\", FutureWarning)\n",
      "/Applications/Anaconda/anaconda/lib/python3.7/site-packages/sklearn/ensemble/forest.py:246: FutureWarning: The default value of n_estimators will change from 10 in version 0.20 to 100 in 0.22.\n",
      "  \"10 in version 0.20 to 100 in 0.22.\", FutureWarning)\n",
      "/Applications/Anaconda/anaconda/lib/python3.7/site-packages/sklearn/svm/base.py:922: ConvergenceWarning: Liblinear failed to converge, increase the number of iterations.\n",
      "  \"the number of iterations.\", ConvergenceWarning)\n",
      "/Applications/Anaconda/anaconda/lib/python3.7/site-packages/sklearn/linear_model/logistic.py:433: FutureWarning: Default solver will be changed to 'lbfgs' in 0.22. Specify a solver to silence this warning.\n",
      "  FutureWarning)\n",
      "/Applications/Anaconda/anaconda/lib/python3.7/site-packages/sklearn/linear_model/logistic.py:460: FutureWarning: Default multi_class will be changed to 'auto' in 0.22. Specify the multi_class option to silence this warning.\n",
      "  \"this warning.\", FutureWarning)\n",
      "/Applications/Anaconda/anaconda/lib/python3.7/site-packages/sklearn/ensemble/forest.py:246: FutureWarning: The default value of n_estimators will change from 10 in version 0.20 to 100 in 0.22.\n",
      "  \"10 in version 0.20 to 100 in 0.22.\", FutureWarning)\n",
      "/Applications/Anaconda/anaconda/lib/python3.7/site-packages/sklearn/svm/base.py:922: ConvergenceWarning: Liblinear failed to converge, increase the number of iterations.\n",
      "  \"the number of iterations.\", ConvergenceWarning)\n",
      "/Applications/Anaconda/anaconda/lib/python3.7/site-packages/sklearn/linear_model/logistic.py:433: FutureWarning: Default solver will be changed to 'lbfgs' in 0.22. Specify a solver to silence this warning.\n",
      "  FutureWarning)\n",
      "/Applications/Anaconda/anaconda/lib/python3.7/site-packages/sklearn/linear_model/logistic.py:460: FutureWarning: Default multi_class will be changed to 'auto' in 0.22. Specify the multi_class option to silence this warning.\n",
      "  \"this warning.\", FutureWarning)\n",
      "/Applications/Anaconda/anaconda/lib/python3.7/site-packages/sklearn/ensemble/forest.py:246: FutureWarning: The default value of n_estimators will change from 10 in version 0.20 to 100 in 0.22.\n",
      "  \"10 in version 0.20 to 100 in 0.22.\", FutureWarning)\n",
      "/Applications/Anaconda/anaconda/lib/python3.7/site-packages/sklearn/svm/base.py:922: ConvergenceWarning: Liblinear failed to converge, increase the number of iterations.\n",
      "  \"the number of iterations.\", ConvergenceWarning)\n",
      "/Applications/Anaconda/anaconda/lib/python3.7/site-packages/sklearn/linear_model/logistic.py:433: FutureWarning: Default solver will be changed to 'lbfgs' in 0.22. Specify a solver to silence this warning.\n",
      "  FutureWarning)\n",
      "/Applications/Anaconda/anaconda/lib/python3.7/site-packages/sklearn/linear_model/logistic.py:460: FutureWarning: Default multi_class will be changed to 'auto' in 0.22. Specify the multi_class option to silence this warning.\n",
      "  \"this warning.\", FutureWarning)\n",
      "/Applications/Anaconda/anaconda/lib/python3.7/site-packages/sklearn/ensemble/forest.py:246: FutureWarning: The default value of n_estimators will change from 10 in version 0.20 to 100 in 0.22.\n",
      "  \"10 in version 0.20 to 100 in 0.22.\", FutureWarning)\n",
      "/Applications/Anaconda/anaconda/lib/python3.7/site-packages/sklearn/svm/base.py:922: ConvergenceWarning: Liblinear failed to converge, increase the number of iterations.\n",
      "  \"the number of iterations.\", ConvergenceWarning)\n",
      "/Applications/Anaconda/anaconda/lib/python3.7/site-packages/sklearn/linear_model/logistic.py:433: FutureWarning: Default solver will be changed to 'lbfgs' in 0.22. Specify a solver to silence this warning.\n",
      "  FutureWarning)\n",
      "/Applications/Anaconda/anaconda/lib/python3.7/site-packages/sklearn/linear_model/logistic.py:460: FutureWarning: Default multi_class will be changed to 'auto' in 0.22. Specify the multi_class option to silence this warning.\n",
      "  \"this warning.\", FutureWarning)\n",
      "/Applications/Anaconda/anaconda/lib/python3.7/site-packages/sklearn/ensemble/forest.py:246: FutureWarning: The default value of n_estimators will change from 10 in version 0.20 to 100 in 0.22.\n",
      "  \"10 in version 0.20 to 100 in 0.22.\", FutureWarning)\n"
     ]
    },
    {
     "name": "stdout",
     "output_type": "stream",
     "text": [
      "[0.4186046511627907, 0.4766666666666667, 0.47, 0.39666666666666667, 0.4066666666666667] 0.4337209302325581\n",
      "[0.17940199335548174, 0.22, 0.19333333333333333, 0.19, 0.21666666666666667] 0.19988039867109636\n",
      "[0.29900332225913623, 0.3433333333333333, 0.2866666666666667, 0.2733333333333333, 0.2733333333333333] 0.2951339977851606\n",
      "[0.32558139534883723, 0.4, 0.37666666666666665, 0.32, 0.3433333333333333] 0.35311627906976745\n",
      "[0.03986710963455149, 0.07333333333333333, 0.08333333333333333, 0.023333333333333334, 0.03666666666666667] 0.05130675526024363\n"
     ]
    },
    {
     "name": "stderr",
     "output_type": "stream",
     "text": [
      "/Applications/Anaconda/anaconda/lib/python3.7/site-packages/sklearn/svm/base.py:922: ConvergenceWarning: Liblinear failed to converge, increase the number of iterations.\n",
      "  \"the number of iterations.\", ConvergenceWarning)\n"
     ]
    }
   ],
   "source": [
    "LR_list = []\n",
    "KNN_list = []\n",
    "DT_list = []\n",
    "RF_list = []\n",
    "SVM_list = []\n",
    "for train_index, test_index in kf.split(training_set):\n",
    "    X = training_set\n",
    "    y = starting_data['Encoding'].astype('int')\n",
    "    X_train, X_test = X.iloc[train_index], X.iloc[test_index]\n",
    "    y_train, y_test = y.iloc[train_index], y.iloc[test_index]\n",
    "    clf = LogisticRegression(random_state=0, penalty='l1',C=10, max_iter=1000).fit(X_train, y_train)\n",
    "    y_hat = clf.predict(X_test)\n",
    "    LR_list.append(accuracy(y_hat, y_test))\n",
    "    neigh = KNeighborsClassifier(n_neighbors=3)\n",
    "    neigh.fit(X_train, y_train)\n",
    "    y_hat = neigh.predict(X_test)\n",
    "    KNN_list.append(accuracy(y_hat, y_test))\n",
    "    dt = tree.DecisionTreeClassifier()\n",
    "    dt.fit(X_train, y_train)\n",
    "    y_hat = dt.predict(X_test)\n",
    "    DT_list.append(accuracy(y_hat, y_test))\n",
    "    forest = RandomForestClassifier(max_depth=10, random_state=0)\n",
    "    forest.fit(X_train, y_train)\n",
    "    y_hat = forest.predict(X_test)\n",
    "    RF_list.append(accuracy(y_hat, y_test))\n",
    "    SVMClassifier = LinearSVC(C=10, random_state=42)\n",
    "    SVMClassifier.fit(X_train, y_train)\n",
    "    y_hat = SVMClassifier.predict(X_test)\n",
    "    SVM_list.append(accuracy(y_hat, y_test))\n",
    "print(LR_list, np.mean(LR_list))\n",
    "print(KNN_list, np.mean(KNN_list))\n",
    "print(DT_list, np.mean(DT_list))\n",
    "print(RF_list, np.mean(RF_list))\n",
    "print(SVM_list, np.mean(SVM_list))"
   ]
  },
  {
   "cell_type": "code",
   "execution_count": 11,
   "metadata": {},
   "outputs": [
    {
     "data": {
      "text/plain": [
       "array([12,  4, 18,  3,  6, 13, 10,  9,  1,  7,  8, 17,  5, 11, 19, 14,  0,\n",
       "       15,  2, 16])"
      ]
     },
     "execution_count": 11,
     "metadata": {},
     "output_type": "execute_result"
    }
   ],
   "source": [
    "train_y.unique()"
   ]
  },
  {
   "cell_type": "code",
   "execution_count": 17,
   "metadata": {},
   "outputs": [
    {
     "data": {
      "text/plain": [
       "array(['gorilla', 'crab', 'blimp', 'airplanes', 'dog', 'dolphin',\n",
       "       'giraffe', 'bear', 'killer-whale', 'penguin', 'zebra', 'goat',\n",
       "       'triceratops', 'porcupine', 'teddy-bear', 'comet', 'leopards',\n",
       "       'kangaroo', 'unicorn', 'llama'], dtype=object)"
      ]
     },
     "execution_count": 17,
     "metadata": {},
     "output_type": "execute_result"
    }
   ],
   "source": [
    "starting_data[\"Picture\"].unique()"
   ]
  },
  {
   "cell_type": "code",
   "execution_count": 5,
   "metadata": {},
   "outputs": [],
   "source": [
    "encoding = {'airplanes':0, 'bear':1, 'blimp':2, 'comet':3, 'crab':4,\\\n",
    "            'dog':5, 'dolphin':6, 'giraffe':7, 'goat':8, 'gorilla':9,\\\n",
    "            'kangaroo':10, 'killer-whale':11, 'leopards':12, 'llama':13,\\\n",
    "            'penguin':14, 'porcupine':15, 'teddy-bear':16,'triceratops':17,\\\n",
    "            'unicorn':18, 'zebra':19}\n",
    "decoding = {value:key for key,value in encoding.items()}"
   ]
  },
  {
   "cell_type": "code",
   "execution_count": 6,
   "metadata": {
    "scrolled": true
   },
   "outputs": [
    {
     "name": "stderr",
     "output_type": "stream",
     "text": [
      "/Applications/Anaconda/anaconda/lib/python3.7/site-packages/sklearn/linear_model/logistic.py:433: FutureWarning: Default solver will be changed to 'lbfgs' in 0.22. Specify a solver to silence this warning.\n",
      "  FutureWarning)\n",
      "/Applications/Anaconda/anaconda/lib/python3.7/site-packages/sklearn/linear_model/logistic.py:460: FutureWarning: Default multi_class will be changed to 'auto' in 0.22. Specify the multi_class option to silence this warning.\n",
      "  \"this warning.\", FutureWarning)\n"
     ]
    },
    {
     "name": "stdout",
     "output_type": "stream",
     "text": [
      "0.4186046511627907\n",
      "              bear  leopards  comet  airplanes  dog  llama  teddy-bear  \\\n",
      "bear             3         0      0          0    2      2           0   \n",
      "leopards         0        21      0          0    0      0           0   \n",
      "comet            0         0     10          0    0      0           0   \n",
      "airplanes        0         0      0         14    0      0           0   \n",
      "dog              0         0      0          0    1      0           2   \n",
      "llama            1         0      0          0    1      5           2   \n",
      "teddy-bear       2         0      0          1    0      0           5   \n",
      "dolphin          0         0      0          0    0      1           0   \n",
      "porcupine        1         0      0          1    1      0           0   \n",
      "killer-whale     1         0      0          0    1      0           0   \n",
      "penguin          0         0      0          0    0      1           0   \n",
      "blimp            0         0      0          0    0      1           0   \n",
      "triceratops      1         0      0          0    0      0           1   \n",
      "unicorn          1         0      0          0    0      1           0   \n",
      "gorilla          2         0      0          0    1      1           0   \n",
      "goat             0         0      1          0    2      0           0   \n",
      "crab             0         0      0          0    1      0           0   \n",
      "zebra            0         0      0          1    1      1           0   \n",
      "kangaroo         0         0      0          0    0      1           0   \n",
      "giraffe          0         0      0          0    0      2           0   \n",
      "\n",
      "              dolphin  porcupine  killer-whale  penguin  blimp  triceratops  \\\n",
      "bear                0          0             0        0      0            0   \n",
      "leopards            0          0             0        0      0            0   \n",
      "comet               1          0             0        0      1            0   \n",
      "airplanes           0          0             0        0      0            0   \n",
      "dog                 1          1             1        2      0            0   \n",
      "llama               1          0             1        0      0            0   \n",
      "teddy-bear          1          1             1        0      0            1   \n",
      "dolphin             7          0             3        2      2            1   \n",
      "porcupine           0          3             0        0      0            1   \n",
      "killer-whale        2          1             8        2      0            0   \n",
      "penguin             2          1             3        4      1            0   \n",
      "blimp               3          1             0        0      7            1   \n",
      "triceratops         0          0             0        1      0            4   \n",
      "unicorn             0          0             0        0      1            0   \n",
      "gorilla             0          0             0        1      0            1   \n",
      "goat                0          0             1        2      0            0   \n",
      "crab                1          0             0        0      0            0   \n",
      "zebra               0          0             0        2      0            0   \n",
      "kangaroo            0          0             0        0      0            1   \n",
      "giraffe             0          1             0        0      1            0   \n",
      "\n",
      "              unicorn  gorilla  goat  crab  zebra  kangaroo  giraffe  \n",
      "bear                0        6     0     0      0         0        0  \n",
      "leopards            0        0     0     0      0         0        0  \n",
      "comet               0        0     0     1      2         0        0  \n",
      "airplanes           0        0     0     1      0         0        0  \n",
      "dog                 0        2     2     1      1         0        1  \n",
      "llama               0        0     1     1      1         2        1  \n",
      "teddy-bear          2        0     0     1      1         0        2  \n",
      "dolphin             0        0     1     2      0         0        1  \n",
      "porcupine           0        2     0     0      2         1        1  \n",
      "killer-whale        0        1     0     0      0         0        0  \n",
      "penguin             0        2     1     0      2         0        0  \n",
      "blimp               0        0     0     0      0         0        0  \n",
      "triceratops         0        1     1     2      0         0        0  \n",
      "unicorn             4        0     2     1      0         0        0  \n",
      "gorilla             0       16     1     0      3         1        0  \n",
      "goat                0        2     1     2      3         0        0  \n",
      "crab                1        2     1     1      0         0        0  \n",
      "zebra               1        0     3     3      3         0        0  \n",
      "kangaroo            1        0     1     1      2         5        0  \n",
      "giraffe             0        2     0     0      1         1        4  \n"
     ]
    }
   ],
   "source": [
    "import pandas as pd\n",
    "clf = LogisticRegression(random_state=42, penalty='l1',C=10, max_iter=1000).fit(train_X, train_y)\n",
    "y_hat = clf.predict(test_X)\n",
    "print(accuracy(y_hat, test_y))\n",
    "cmtx = pd.DataFrame(\n",
    "    confusion_matrix(test_y, y_hat, labels=train_y.unique()),\n",
    "    index=[decoding[x] for x in train_y.unique()], \n",
    "    columns=[decoding[x] for x in train_y.unique()]\n",
    ")\n",
    "print(cmtx)"
   ]
  },
  {
   "cell_type": "markdown",
   "metadata": {},
   "source": [
    "Many bears are classified as gorilla, and no dog is correctly classified. Also, it seems that zebra is a quite challenging class that LR model misclassify many input as zebra. Our model achieves 100% classification accuracy on leopards class"
   ]
  },
  {
   "cell_type": "markdown",
   "metadata": {},
   "source": [
    "### K-nearest Neighbors"
   ]
  },
  {
   "cell_type": "code",
   "execution_count": 10,
   "metadata": {},
   "outputs": [
    {
     "name": "stdout",
     "output_type": "stream",
     "text": [
      "0.21169354838709678\n"
     ]
    }
   ],
   "source": [
    "neigh = KNeighborsClassifier(n_neighbors=3)\n",
    "neigh.fit(train_X, train_y)\n",
    "y_hat = neigh.predict(test_X)\n",
    "print(accuracy(y_hat, test_y))"
   ]
  },
  {
   "cell_type": "markdown",
   "metadata": {},
   "source": [
    "### Classification Tree"
   ]
  },
  {
   "cell_type": "code",
   "execution_count": 11,
   "metadata": {},
   "outputs": [
    {
     "name": "stdout",
     "output_type": "stream",
     "text": [
      "0.3245967741935484\n"
     ]
    }
   ],
   "source": [
    "dt = tree.DecisionTreeClassifier()\n",
    "dt.fit(train_X, train_y)\n",
    "y_hat = dt.predict(test_X)\n",
    "print(accuracy(y_hat, test_y))"
   ]
  },
  {
   "cell_type": "markdown",
   "metadata": {},
   "source": [
    "### Random Forest"
   ]
  },
  {
   "cell_type": "code",
   "execution_count": 12,
   "metadata": {},
   "outputs": [
    {
     "name": "stdout",
     "output_type": "stream",
     "text": [
      "0.3548387096774194\n"
     ]
    },
    {
     "name": "stderr",
     "output_type": "stream",
     "text": [
      "/Applications/Anaconda/anaconda/lib/python3.7/site-packages/sklearn/ensemble/forest.py:246: FutureWarning: The default value of n_estimators will change from 10 in version 0.20 to 100 in 0.22.\n",
      "  \"10 in version 0.20 to 100 in 0.22.\", FutureWarning)\n"
     ]
    }
   ],
   "source": [
    "forest = RandomForestClassifier(max_depth=10, random_state=0)\n",
    "forest.fit(train_X, train_y)\n",
    "y_hat = forest.predict(test_X)\n",
    "print(accuracy(y_hat, test_y))"
   ]
  },
  {
   "cell_type": "markdown",
   "metadata": {},
   "source": [
    "### Support Vector Machine"
   ]
  },
  {
   "cell_type": "code",
   "execution_count": 15,
   "metadata": {},
   "outputs": [
    {
     "name": "stdout",
     "output_type": "stream",
     "text": [
      "0.13911290322580644\n"
     ]
    },
    {
     "name": "stderr",
     "output_type": "stream",
     "text": [
      "/Applications/Anaconda/anaconda/lib/python3.7/site-packages/sklearn/svm/base.py:922: ConvergenceWarning: Liblinear failed to converge, increase the number of iterations.\n",
      "  \"the number of iterations.\", ConvergenceWarning)\n"
     ]
    }
   ],
   "source": [
    "SVMClassifier = LinearSVC(C=10, random_state=42, max_iter=50000)\n",
    "SVMClassifier.fit(train_X, train_y)\n",
    "y_hat = SVMClassifier.predict(test_X)\n",
    "print(accuracy(y_hat, test_y))"
   ]
  },
  {
   "cell_type": "markdown",
   "metadata": {},
   "source": [
    "### Prediction on Validation Dataset"
   ]
  },
  {
   "cell_type": "markdown",
   "metadata": {},
   "source": [
    "We find that logistic regression has the best accuracy. Therefore, we decide to use logistic regression as our final model."
   ]
  },
  {
   "cell_type": "code",
   "execution_count": 12,
   "metadata": {},
   "outputs": [],
   "source": [
    "%store -r validation_data_2"
   ]
  },
  {
   "cell_type": "code",
   "execution_count": 18,
   "metadata": {},
   "outputs": [],
   "source": [
    "X_validation = validation_set\n",
    "prediction_result = clf.predict(validation_set)\n",
    "pd.DataFrame(prediction_result).to_csv(\"submission.csv\", index=False, header=False)"
   ]
  },
  {
   "cell_type": "code",
   "execution_count": 8,
   "metadata": {},
   "outputs": [
    {
     "data": {
      "text/plain": [
       "716"
      ]
     },
     "execution_count": 8,
     "metadata": {},
     "output_type": "execute_result"
    }
   ],
   "source": [
    "len(X_validation)"
   ]
  },
  {
   "cell_type": "code",
   "execution_count": null,
   "metadata": {},
   "outputs": [],
   "source": []
  }
 ],
 "metadata": {
  "kernelspec": {
   "display_name": "Python 3",
   "language": "python",
   "name": "python3"
  },
  "language_info": {
   "codemirror_mode": {
    "name": "ipython",
    "version": 3
   },
   "file_extension": ".py",
   "mimetype": "text/x-python",
   "name": "python",
   "nbconvert_exporter": "python",
   "pygments_lexer": "ipython3",
   "version": "3.7.5"
  }
 },
 "nbformat": 4,
 "nbformat_minor": 2
}
