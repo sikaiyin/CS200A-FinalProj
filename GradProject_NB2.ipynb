{
 "cells": [
  {
   "cell_type": "markdown",
   "metadata": {},
   "source": [
    "<h1> DS200A Computer Vision Assignment</h1>"
   ]
  },
  {
   "cell_type": "markdown",
   "metadata": {},
   "source": [
    "<h2>  Part Two: Exploratory data analysis and feature extraction. </h2>\t\n"
   ]
  },
  {
   "cell_type": "markdown",
   "metadata": {},
   "source": [
    "<h5> In this section, Compute at least 15 such image features (a method for each), including the following (NOTE: At least 10 of these must be scalar features and 2 matrix-based features): (i) image size, (ii) average of the red-channel intensity, (iii) aspectratio. This will require significant explatoratory research and data analysis. The first one is already implemented for you, and the next two are pre-specified. Additional requirements specfied in pdf. </h5>"
   ]
  },
  {
   "cell_type": "code",
   "execution_count": null,
   "metadata": {},
   "outputs": [],
   "source": [
    "%store -r starting_data\n",
    "%store -r validation_data\n",
    "import numpy as np"
   ]
  },
  {
   "cell_type": "code",
   "execution_count": 2,
   "metadata": {},
   "outputs": [],
   "source": [
    "#image size\n",
    "def ft0(image):\n",
    "    return image.size\n",
    "\n",
    "#average of the red-channel intensity\n",
    "def ft1(image):\n",
    "    raise np.mean(image[:,:,0])\n",
    "    \n",
    "#aspectratio\n",
    "def ft1(image):\n",
    "    raise image.shape[0] / image.shape[1]\n",
    "\n",
    "#average of the green-channel intensity\n",
    "def ft3(image):\n",
    "    raise np.mean(image[:,:,1])\n",
    "\n",
    "#average of the blue-channel intensity\n",
    "def ft4(image):\n",
    "    raise np.mean(image[:,:,2])\n",
    "\n",
    "def ft5(image):\n",
    "    raise notImplementedError()\n",
    "\n",
    "def ft6(image):\n",
    "    raise notImplementedError()\n",
    "\n",
    "def ft7(image):\n",
    "    raise notImplementedError()\n",
    "\n",
    "def ft8(image):\n",
    "    raise notImplementedError()\n",
    "\n",
    "def ft9(image):\n",
    "    raise notImplementedError()\n",
    "\n",
    "def ft9(image):\n",
    "    raise notImplementedError()\n",
    "    \n",
    "def ft10(image):\n",
    "    raise notImplementedError()\n",
    "    \n",
    "def ft11(image):\n",
    "    raise notImplementedError()\n",
    "    \n",
    "def ft12(image):\n",
    "    raise notImplementedError()\n",
    "    \n",
    "def ft13(image):\n",
    "    raise notImplementedError()\n",
    "    \n",
    "def ft14(image):\n",
    "    raise notImplementedError()\n",
    "    \n",
    "def ft15(image):\n",
    "    raise notImplementedError()\n",
    "    \n",
    "    \n",
    "#Returns the aspect ratio of the image\n"
   ]
  },
  {
   "cell_type": "markdown",
   "metadata": {},
   "source": [
    " We expect all external sources sited, and significant indication of EDA. "
   ]
  },
  {
   "cell_type": "markdown",
   "metadata": {},
   "source": [
    "<h4> Graphs </h4>"
   ]
  },
  {
   "cell_type": "code",
   "execution_count": null,
   "metadata": {
    "collapsed": true
   },
   "outputs": [],
   "source": []
  },
  {
   "cell_type": "markdown",
   "metadata": {},
   "source": [
    "<h4> Sources </h4>"
   ]
  },
  {
   "cell_type": "code",
   "execution_count": null,
   "metadata": {
    "collapsed": true
   },
   "outputs": [],
   "source": []
  },
  {
   "cell_type": "markdown",
   "metadata": {},
   "source": [
    "<h4> DataFrame Creation </h4>"
   ]
  },
  {
   "cell_type": "code",
   "execution_count": 1,
   "metadata": {},
   "outputs": [],
   "source": [
    "def feature_frame(df):\n",
    "    return df\n",
    "    #Returns data-frame with all the features now inside, and calculated\n"
   ]
  },
  {
   "cell_type": "code",
   "execution_count": 2,
   "metadata": {},
   "outputs": [
    {
     "ename": "NameError",
     "evalue": "name 'data_from_nb1' is not defined",
     "output_type": "error",
     "traceback": [
      "\u001b[0;31m---------------------------------------------------------------------------\u001b[0m",
      "\u001b[0;31mNameError\u001b[0m                                 Traceback (most recent call last)",
      "\u001b[0;32m<ipython-input-2-87bdb7e363c7>\u001b[0m in \u001b[0;36m<module>\u001b[0;34m\u001b[0m\n\u001b[0;32m----> 1\u001b[0;31m \u001b[0mfeature_frame\u001b[0m\u001b[0;34m(\u001b[0m\u001b[0mdata_from_nb1\u001b[0m\u001b[0;34m)\u001b[0m\u001b[0;34m\u001b[0m\u001b[0;34m\u001b[0m\u001b[0m\n\u001b[0m",
      "\u001b[0;31mNameError\u001b[0m: name 'data_from_nb1' is not defined"
     ]
    }
   ],
   "source": [
    "feature_frame(data_from_nb1)"
   ]
  },
  {
   "cell_type": "code",
   "execution_count": null,
   "metadata": {
    "collapsed": true
   },
   "outputs": [],
   "source": []
  }
 ],
 "metadata": {
  "kernelspec": {
   "display_name": "Python 3",
   "language": "python",
   "name": "python3"
  },
  "language_info": {
   "codemirror_mode": {
    "name": "ipython",
    "version": 3
   },
   "file_extension": ".py",
   "mimetype": "text/x-python",
   "name": "python",
   "nbconvert_exporter": "python",
   "pygments_lexer": "ipython3",
   "version": "3.7.3"
  }
 },
 "nbformat": 4,
 "nbformat_minor": 2
}
